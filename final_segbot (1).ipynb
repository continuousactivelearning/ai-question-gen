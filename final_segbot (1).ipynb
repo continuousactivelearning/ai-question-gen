{
  "cells": [
    {
      "cell_type": "code",
      "source": [
        "!git --version"
      ],
      "metadata": {
        "id": "jDA05dTp9Qy5"
      },
      "execution_count": null,
      "outputs": []
    },
    {
      "cell_type": "code",
      "source": [
        "from google.colab import drive\n",
        "drive.mount('/content/drive')\n"
      ],
      "metadata": {
        "id": "FFxLjItc9nEl"
      },
      "execution_count": null,
      "outputs": []
    },
    {
      "cell_type": "code",
      "source": [
        "!git clone https://github.com/continuousactivelearning/ai-question-gen"
      ],
      "metadata": {
        "id": "4lD85FVO9xo2"
      },
      "execution_count": null,
      "outputs": []
    },
    {
      "cell_type": "code",
      "source": [
        "!ls /content/\n"
      ],
      "metadata": {
        "id": "6aj3b0ny-0l1"
      },
      "execution_count": null,
      "outputs": []
    },
    {
      "cell_type": "code",
      "source": [
        "!git clone https://github.com/username/repository.git\n"
      ],
      "metadata": {
        "id": "CbZVSVuk-5zm"
      },
      "execution_count": null,
      "outputs": []
    },
    {
      "cell_type": "code",
      "source": [
        "%cd ai-question-gen  # Change 'repository' to your actual repo folder name\n"
      ],
      "metadata": {
        "id": "yBG6_b-U-AUW"
      },
      "execution_count": null,
      "outputs": []
    },
    {
      "cell_type": "code",
      "execution_count": null,
      "metadata": {
        "id": "HQQOchMiavLj"
      },
      "outputs": [],
      "source": [
        "pip install yt-dlp"
      ]
    },
    {
      "cell_type": "markdown",
      "metadata": {
        "id": "lAB3iETsa7Xw"
      },
      "source": [
        "# Video to Audio generation"
      ]
    },
    {
      "cell_type": "code",
      "execution_count": null,
      "metadata": {
        "id": "NJ-q8Ogca6Xu"
      },
      "outputs": [],
      "source": [
        "import yt_dlp\n",
        "\n",
        "def download_audio(video_url):\n",
        "    ydl_opts = {\n",
        "    'format': 'bestaudio/best',\n",
        "    'outtmpl': '/content/audio.mp3',\n",
        "    'cookiefile': '/content/cookies.txt',  # Update this path\n",
        "    'postprocessors': [{\n",
        "        'key': 'FFmpegExtractAudio',\n",
        "        'preferredcodec': 'mp3',\n",
        "        'preferredquality': '192',\n",
        "    }],\n",
        "  }\n",
        "\n",
        "    with yt_dlp.YoutubeDL(ydl_opts) as ydl:\n",
        "        ydl.download([video_url])\n",
        "\n",
        "    return \"/content/audio.mp3\"\n",
        "\n",
        "video_url = input(\"Enter YouTube video URL: \")\n",
        "file_path = download_audio(video_url)\n",
        "print(f\"Downloaded audio: {file_path}\")"
      ]
    },
    {
      "cell_type": "code",
      "execution_count": null,
      "metadata": {
        "id": "_08PMhVDbAyG"
      },
      "outputs": [],
      "source": [
        "import os\n",
        "\n",
        "# Check the files in /content directory\n",
        "print(\"Files in content:\", os.listdir(\"/content\"))\n",
        "\n",
        "# Fix the file name if needed\n",
        "old_path = \"/content/audio.mp3.mp3\"\n",
        "new_path = \"/content/audio.mp3\"\n",
        "\n",
        "if os.path.exists(old_path):\n",
        "    os.rename(old_path, new_path)\n",
        "    print(f\"Renamed: {old_path} → {new_path}\")\n",
        "else:\n",
        "    print(\"Audio file not found!\")"
      ]
    },
    {
      "cell_type": "code",
      "execution_count": null,
      "metadata": {
        "colab": {
          "background_save": true
        },
        "id": "gUMBziRWbBdg"
      },
      "outputs": [],
      "source": [
        "import IPython.display as ipd\n",
        "\n",
        "# Set the correct file path\n",
        "audio_path = \"/content/audio.mp3\"\n",
        "\n",
        "# Play the audio with the correct sample rate (e.g., 44100 Hz)\n",
        "ipd.Audio(audio_path, rate=44100)"
      ]
    },
    {
      "cell_type": "markdown",
      "metadata": {
        "id": "NuRQTi-ZbDNy"
      },
      "source": [
        "# Audio to Transcript Generation"
      ]
    },
    {
      "cell_type": "code",
      "execution_count": null,
      "metadata": {
        "id": "aH_m9VOCbGPU"
      },
      "outputs": [],
      "source": [
        "!pip install openai-whisper"
      ]
    },
    {
      "cell_type": "code",
      "execution_count": null,
      "metadata": {
        "colab": {
          "background_save": true
        },
        "id": "duEFqkbcbNw_"
      },
      "outputs": [],
      "source": [
        "import whisper\n",
        "import re\n",
        "\n",
        "# Load Whisper model\n",
        "model = whisper.load_model(\"base\")  # Try \"medium\" or \"large\" for better accuracy\n",
        "result = model.transcribe(\"/content/audio.mp3\", word_timestamps=True)\n",
        "\n",
        "# Function to split text into sentences using punctuation\n",
        "def split_sentences_with_timestamps(segments):\n",
        "    sentences = []\n",
        "    current_sentence = []\n",
        "    start_time, end_time = None, None\n",
        "\n",
        "    for segment in segments:\n",
        "        words = segment[\"words\"]\n",
        "        for word in words:\n",
        "            if start_time is None:\n",
        "                start_time = word[\"start\"]\n",
        "            end_time = word[\"end\"]\n",
        "            current_sentence.append(word[\"word\"])\n",
        "\n",
        "            # Check if sentence-ending punctuation is found\n",
        "            if re.search(r'[.!?]', word[\"word\"].strip()):\n",
        "                sentence_text = \" \".join(current_sentence).strip()\n",
        "                if sentence_text:\n",
        "                    sentences.append({\n",
        "                        \"text\": sentence_text,\n",
        "                        \"start\": start_time,\n",
        "                        \"end\": end_time\n",
        "                    })\n",
        "                # Reset for next sentence\n",
        "                current_sentence = []\n",
        "                start_time, end_time = None, None\n",
        "\n",
        "    # Add remaining sentence if any\n",
        "    if current_sentence:\n",
        "        sentence_text = \" \".join(current_sentence).strip()\n",
        "        if sentence_text:\n",
        "            sentences.append({\n",
        "                \"text\": sentence_text,\n",
        "                \"start\": start_time,\n",
        "                \"end\": end_time\n",
        "            })\n",
        "\n",
        "    return sentences\n",
        "\n",
        "# Split sentences with proper punctuation\n",
        "sentence_segments = split_sentences_with_timestamps(result[\"segments\"])\n",
        "\n",
        "# Save sentence-level transcript with proper sentence boundaries\n",
        "with open(\"/content/sentence_timestamps.txt\", \"w\") as f:\n",
        "    for seg in sentence_segments:\n",
        "        start_time = seg['start']\n",
        "        end_time = seg['end']\n",
        "        text = seg['text']\n",
        "        f.write(f\"{start_time:.2f} --> {end_time:.2f}\\n{text}\\n\\n\")\n",
        "\n",
        "print(\"Sentence-level transcript with accurate timestamps saved successfully!\")\n"
      ]
    },
    {
      "cell_type": "code",
      "execution_count": null,
      "metadata": {
        "id": "kv8DtL9DbPlt"
      },
      "outputs": [],
      "source": [
        "import torch\n",
        "import torch.nn as nn\n",
        "import torch.nn.functional as F\n",
        "import spacy\n",
        "import numpy as np\n",
        "from scipy.signal import find_peaks\n",
        "import random\n",
        "\n",
        "# Set random seed for reproducibility\n",
        "SEED = 42\n",
        "random.seed(SEED)\n",
        "np.random.seed(SEED)\n",
        "torch.manual_seed(SEED)\n",
        "torch.cuda.manual_seed_all(SEED)\n",
        "\n",
        "# Load spaCy tokenizer\n",
        "nlp = spacy.load(\"en_core_web_sm\")\n",
        "\n",
        "def load_text_file(file_path):\n",
        "    \"\"\"Load transcript with sentence-level timestamps.\"\"\"\n",
        "    sentences = []\n",
        "    timestamps = []\n",
        "\n",
        "    with open(file_path, 'r', encoding='utf-8') as f:\n",
        "        lines = f.readlines()\n",
        "\n",
        "    for i in range(0, len(lines), 3):\n",
        "      if i + 1 >= len(lines):  # Skip if not enough lines left\n",
        "          continue\n",
        "\n",
        "      time_range = lines[i].strip().split(\" --> \")\n",
        "\n",
        "      # Skip invalid time ranges\n",
        "      if len(time_range) != 2:\n",
        "          continue\n",
        "\n",
        "      try:\n",
        "          start_time = float(time_range[0])\n",
        "          end_time = float(time_range[1])\n",
        "      except ValueError:\n",
        "          continue\n",
        "\n",
        "      text = lines[i + 1].strip()\n",
        "\n",
        "      if text:  # Only add if text is not empty\n",
        "          sentences.append(text)\n",
        "          timestamps.append((start_time, end_time))\n",
        "\n",
        "    tokens = [token.text for sent in sentences for token in nlp(sent)]\n",
        "    return sentences, tokens, timestamps\n",
        "\n",
        "\n",
        "class Encoder(nn.Module):\n",
        "    def __init__(self, input_dim, hidden_dim):\n",
        "        super(Encoder, self).__init__()\n",
        "        self.hidden_dim = hidden_dim\n",
        "        self.bigru = nn.GRU(input_dim, hidden_dim, bidirectional=True, batch_first=True)\n",
        "\n",
        "    def forward(self, x):\n",
        "        h, _ = self.bigru(x)\n",
        "        return h  # h ∈ R^(N × 2H)\n",
        "\n",
        "\n",
        "class Decoder(nn.Module):\n",
        "    def __init__(self, hidden_dim):\n",
        "        super(Decoder, self).__init__()\n",
        "        self.hidden_dim = hidden_dim\n",
        "        self.gru = nn.GRU(hidden_dim * 2, hidden_dim, batch_first=True)\n",
        "\n",
        "    def forward(self, x, hidden_state):\n",
        "        d, hidden_state = self.gru(x, hidden_state)\n",
        "        return d, hidden_state\n",
        "\n",
        "\n",
        "class Pointer(nn.Module):\n",
        "    def __init__(self, encoder_hidden_dim, decoder_hidden_dim):\n",
        "        super(Pointer, self).__init__()\n",
        "        self.W1 = nn.Linear(encoder_hidden_dim, decoder_hidden_dim)\n",
        "        self.W2 = nn.Linear(decoder_hidden_dim, decoder_hidden_dim)\n",
        "        self.v = nn.Linear(decoder_hidden_dim, 1, bias=False)\n",
        "\n",
        "    def forward(self, encoder_outputs, decoder_state):\n",
        "        scores = self.v(torch.tanh(self.W1(encoder_outputs) + self.W2(decoder_state)))\n",
        "        attention_weights = F.softmax(scores, dim=1)\n",
        "        return attention_weights\n",
        "\n",
        "\n",
        "class SEGBOT(nn.Module):\n",
        "    def __init__(self, input_dim, hidden_dim):\n",
        "        super(SEGBOT, self).__init__()\n",
        "        self.encoder = Encoder(input_dim, hidden_dim)\n",
        "        self.decoder = Decoder(hidden_dim)\n",
        "        self.pointer = Pointer(hidden_dim * 2, hidden_dim)\n",
        "\n",
        "    def forward(self, x, start_units):\n",
        "        encoder_outputs = self.encoder(x)\n",
        "        decoder_hidden = torch.zeros(1, x.size(0), self.decoder.hidden_dim).to(x.device)\n",
        "        decoder_inputs = encoder_outputs[:, start_units, :].unsqueeze(1)\n",
        "        decoder_outputs, _ = self.decoder(decoder_inputs, decoder_hidden)\n",
        "        attention_weights = self.pointer(encoder_outputs, decoder_outputs.squeeze(1))\n",
        "        return attention_weights\n",
        "\n",
        "    def segment_text(self, sentences, tokens, timestamps, attention_weights):\n",
        "        \"\"\"Segment text and get start/end timestamps.\"\"\"\n",
        "        attention_weights = attention_weights.squeeze().detach().cpu().numpy()\n",
        "\n",
        "        # Normalize attention weights\n",
        "        attention_weights = (attention_weights - np.min(attention_weights)) / (\n",
        "            np.max(attention_weights) - np.min(attention_weights)\n",
        "        )\n",
        "\n",
        "        # Find peaks in attention scores\n",
        "        peak_indices, _ = find_peaks(attention_weights, height=0.5, distance=5)\n",
        "\n",
        "        if len(peak_indices) == 0:\n",
        "            return [{\"text\": \" \".join(sentences), \"start_time\": timestamps[0][0], \"end_time\": timestamps[-1][1]}]\n",
        "\n",
        "        segments = []\n",
        "        start_idx = 0\n",
        "        for i in peak_indices:\n",
        "          if i > 0 and i - start_idx >= 5:  # Ensure valid range and at least 5 sentences per segment\n",
        "              segment_text = \" \".join(sentences[start_idx:i]).strip()\n",
        "\n",
        "              if segment_text:\n",
        "                  start_time = timestamps[start_idx][0]\n",
        "\n",
        "                  # Check if `i - 1` is within range to prevent out-of-bounds error\n",
        "                  if i - 1 < len(timestamps):\n",
        "                      end_time = timestamps[i - 1][1]\n",
        "                  else:\n",
        "                      end_time = timestamps[-1][1]  # Fallback to the last timestamp\n",
        "\n",
        "                  segments.append({\"text\": segment_text, \"start_time\": start_time, \"end_time\": end_time})\n",
        "\n",
        "              start_idx = i\n",
        "\n",
        "\n",
        "        # Add last segment\n",
        "        last_segment = \" \".join(sentences[start_idx:]).strip()\n",
        "        if last_segment:\n",
        "            start_time = timestamps[start_idx][0]\n",
        "            end_time = timestamps[-1][1]\n",
        "            segments.append({\"text\": last_segment, \"start_time\": start_time, \"end_time\": end_time})\n",
        "\n",
        "        return segments if segments else None\n",
        "\n",
        "\n",
        "# Model Hyperparameters\n",
        "input_dim = 128  # Example input size\n",
        "hidden_dim = 256  # Hidden layer size\n",
        "model = SEGBOT(input_dim, hidden_dim)\n",
        "\n",
        "# Load text file and process with sentence-level timestamps\n",
        "file_path = \"/content/sentence_timestamps.txt\"  # Ensure sentence-level transcript format\n",
        "sentences, tokens, timestamps = load_text_file(file_path)\n",
        "\n",
        "# Example Input (Dummy Tensor)\n",
        "x = torch.randn(1, len(tokens), input_dim)  # Batch size of 1, sequence length based on text\n",
        "start_units = 0\n",
        "output = model(x, start_units)\n",
        "\n",
        "# Segment the text and get timestamps\n",
        "segments = model.segment_text(sentences, tokens, timestamps, output)\n",
        "\n",
        "# Save segmented transcript with timestamps\n",
        "if segments:\n",
        "    with open(\"segmented_transcript_with_timestamps.txt\", \"w\", encoding=\"utf-8\") as f:\n",
        "        for i, segment in enumerate(segments):\n",
        "            start_time = segment[\"start_time\"]\n",
        "            end_time = segment[\"end_time\"]\n",
        "            text = segment[\"text\"]\n",
        "            f.write(f\"Segment {i+1} [{start_time:.2f}s - {end_time:.2f}s]:\\n{text}\\n\\n\")\n",
        "    print(\"Segmented transcript with timestamps saved successfully.\")\n",
        "else:\n",
        "    print(\"No valid segments found. Terminating execution.\")\n"
      ]
    }
  ],
  "metadata": {
    "colab": {
      "collapsed_sections": [
        "lAB3iETsa7Xw",
        "NuRQTi-ZbDNy"
      ],
      "provenance": []
    },
    "kernelspec": {
      "display_name": "Python 3",
      "name": "python3"
    },
    "language_info": {
      "name": "python"
    }
  },
  "nbformat": 4,
  "nbformat_minor": 0
}